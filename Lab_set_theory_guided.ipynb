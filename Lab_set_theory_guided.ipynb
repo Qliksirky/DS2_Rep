{
 "cells": [
  {
   "cell_type": "markdown",
   "metadata": {},
   "source": [
    "# Lab\n",
    "This Lab has two parts to to it. Both parts test your knowledge of set operations and will help you learn some new tools for set manipulation.\n",
    "\n",
    "#Part 1\n",
    "Create a Set with the given list arr = [9,'g', 'h', 7, 5,'b', 8,'d', 0,'f', 1, 8,'e', 0,'a', 9, 2].\n",
    "\n",
    "Use python functions to create the following subsets from the set arr.\n",
    "\n",
    "2 sets -\n",
    "    all_chars: all the charaters from arr\n",
    "    all_int: all the integers from arr\n",
    "A set of any 2 characters and all integers from arr, name it \"2char_int_set\"\n",
    "A set of any 2 ints and any 3 characters from arr, name it \"2char_3int_set\"\n",
    "A set named \"random_set\" from arr"
   ]
  },
  {
   "cell_type": "code",
   "execution_count": 1,
   "metadata": {},
   "outputs": [],
   "source": [
    "# problem array \n",
    "arr = [9,'g', 'h', 7, 5,'b', 8,'d', 0,'f', 1, 8,'e', 0,'a', 9, 2]"
   ]
  },
  {
   "cell_type": "code",
   "execution_count": 5,
   "metadata": {},
   "outputs": [
    {
     "name": "stdout",
     "output_type": "stream",
     "text": [
      "All characters in the english langauge ####\n"
     ]
    }
   ],
   "source": [
    "import string\n",
    "\n",
    "# To speed this up. We are giving you the all_letters set \n",
    "# that contains all the letters in the english language\n",
    "\n",
    "set_letters = set(string.ascii_lowercase)\n",
    "print(\"All characters in the english langauge {}\".format('####'))"
   ]
  },
  {
   "cell_type": "code",
   "execution_count": 3,
   "metadata": {},
   "outputs": [
    {
     "name": "stdout",
     "output_type": "stream",
     "text": [
      "Set of numbers {'#'}\n"
     ]
    }
   ],
   "source": [
    "# First generate a set of numbers from 0 to 9 using numpy \n",
    "import numpy as np \n",
    "\n",
    "set_numbers = set('####')\n",
    "print(\"Set of numbers {}\".format(set_numbers))"
   ]
  },
  {
   "cell_type": "code",
   "execution_count": 7,
   "metadata": {},
   "outputs": [
    {
     "name": "stdout",
     "output_type": "stream",
     "text": [
      "['a', 'b', 'c', 'd', 'e', 'f', 'g', 'h', 'i', 'j', 'k', 'l', 'm', 'n', 'o', 'p', 'q', 'r', 's', 't', 'u', 'v', 'w', 'x', 'y', 'z']\n"
     ]
    }
   ],
   "source": [
    "import string\n",
    "alphabet_string = string.ascii_lowercase\n",
    "#Create a string of all lowercase letters\n",
    "\n",
    "\n",
    "alphabet_list = list(alphabet_string)\n",
    "#Create a list of all lowercase letters\n",
    "\n",
    "\n",
    "print(alphabet_list)"
   ]
  },
  {
   "cell_type": "code",
   "execution_count": null,
   "metadata": {},
   "outputs": [],
   "source": []
  }
 ],
 "metadata": {
  "kernelspec": {
   "display_name": "Python 3",
   "language": "python",
   "name": "python3"
  },
  "language_info": {
   "codemirror_mode": {
    "name": "ipython",
    "version": 3
   },
   "file_extension": ".py",
   "mimetype": "text/x-python",
   "name": "python",
   "nbconvert_exporter": "python",
   "pygments_lexer": "ipython3",
   "version": "3.7.6"
  }
 },
 "nbformat": 4,
 "nbformat_minor": 4
}
